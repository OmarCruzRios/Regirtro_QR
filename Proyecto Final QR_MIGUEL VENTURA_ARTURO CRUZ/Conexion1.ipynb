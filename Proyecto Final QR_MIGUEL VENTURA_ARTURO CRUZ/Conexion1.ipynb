{
 "cells": [
  {
   "cell_type": "code",
   "execution_count": 1,
   "id": "395a743c",
   "metadata": {},
   "outputs": [],
   "source": [
    "import mysql.connector "
   ]
  },
  {
   "cell_type": "code",
   "execution_count": 2,
   "id": "56d8e039",
   "metadata": {},
   "outputs": [
    {
     "name": "stdout",
     "output_type": "stream",
     "text": [
      "conexion correcta\n"
     ]
    }
   ],
   "source": [
    "class CConexion:\n",
    "    \n",
    "    def ConexionBaseDeDatos():\n",
    "        try:\n",
    "            conexion =mysql.connector.connect(user='root', password='root', host='127.0.0.1',\n",
    "                                             database='registro',port='3306')\n",
    "            print(\"conexion correcta\")\n",
    "            \n",
    "            return conexion\n",
    "        \n",
    "        \n",
    "        except mysql.connector.Error as error:\n",
    "            print(\"Error al conectarte a la base de datos{}\".format(error))\n",
    "            return conexion\n",
    "            \n",
    "    ConexionBaseDeDatos()"
   ]
  },
  {
   "cell_type": "code",
   "execution_count": null,
   "id": "c15d5b83",
   "metadata": {},
   "outputs": [],
   "source": []
  }
 ],
 "metadata": {
  "kernelspec": {
   "display_name": "Python 3 (ipykernel)",
   "language": "python",
   "name": "python3"
  },
  "language_info": {
   "codemirror_mode": {
    "name": "ipython",
    "version": 3
   },
   "file_extension": ".py",
   "mimetype": "text/x-python",
   "name": "python",
   "nbconvert_exporter": "python",
   "pygments_lexer": "ipython3",
   "version": "3.11.5"
  }
 },
 "nbformat": 4,
 "nbformat_minor": 5
}
